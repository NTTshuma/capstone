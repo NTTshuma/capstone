{
    "cells": [
        {
            "metadata": {},
            "cell_type": "markdown",
            "source": "**The Battle of the Neighborhoods - Week 1**"
        },
        {
            "metadata": {},
            "cell_type": "markdown",
            "source": "**1. Introduction**"
        },
        {
            "metadata": {},
            "cell_type": "markdown",
            "source": "When thinking about relocating to a new city or country for work purposes or to start a new life, or\nto go for a holiday destination people tend to research areas before moving. This research includes\npopulation rate, average house price, school ratings, crime rates, weather conditions, recreational\nfacilities, holiday destinations-tourism, Carnivals and Sports events/activity. etc.\n- Based on the above, a search engine algorithm would be an efficient tool to use that will allow users\nto enter cities and get the neighborhood name that best suits their lifestyle or living conditions.\n- In this project, we will study in detail the area classification using foursquare data and machine\nlearning segmentation and clustering. And segment areas of two cities based on the most common\nplaces captured from Foursquare."
        },
        {
            "metadata": {},
            "cell_type": "markdown",
            "source": "This could be done as the aim of this Project using an algorithm (Using segmentation and clustering)\nthat will perform an extensive analysis on\n1. The similarities and dissimilarities between neighborhoods in the two cities of the user\u2019s\nsearch criteria, and\n2. Determine which neighborhoods best suits their lifestyle.\nFor this project, I will be developing a recommendation system using the Port Elizabeth and Durban\ncities in South Africa as my search criteria:\n"
        },
        {
            "metadata": {},
            "cell_type": "markdown",
            "source": "** Brief Information About: Port Elizabeth and Durban **\n- Port Elizabeth and Durban are two major cities in South Africa Both the cities become a center\nof attention for residential, holiday destinations-tourism, education, job employment, shopping and\nsports activity. Both cities are well known in South Africa and become the top choice for local and\nforeign communities. Also for the best holiday destinations in the world because of its\nMediterranean climate, vibrant nightlife, Michelin Star restaurants, scenic coastal drives,\nstaggering mountain landscape and friendly people; the latter holds the top spot as a family-friendly destination and for its wonderful beaches and water activities."
        },
        {
            "metadata": {},
            "cell_type": "markdown",
            "source": "Port Elizabeth\nPort Elizabeth or The Bay[2] (Xhosa: iBhayi; Afrikaans: Die Baai [di \u02c8b\u0251\u02d0i]) is one of the major cities in\nSouth Africa; it is situated in the Eastern Cape Province, 770 km (478 mi) east of Cape Town. The city,\noften shortened to PE and nicknamed \"The Windy City\", stretches for 16 km along Algoa Bay, and is one\nof the major seaports in South Africa. Port Elizabeth is the southernmost large city on the African\ncontinent, just farther south than Cape Town. Port Elizabeth was founded as a town in 1820 to house\nBritish settlers as a way of strengthening the border region between the Cape Colony and the Xhosa. It\nnow forms part of the Nelson Mandela Bay Metropolitan Municipality, which has a population of over 1.3\nmillion.\n(Source - https://en.wikipedia.org/wiki/Port_Elizabeth ) "
        },
        {
            "metadata": {},
            "cell_type": "markdown",
            "source": "Durban\nDurban (Zulu: eThekwini, from itheku meaning \"bay/lagoon\") is the third most populous city in South\nAfrica\u2014after Johannesburg and Cape Town\u2014and the largest city in the South African province of\nKwaZulu-Natal. Located on the east coast of South Africa, Durban is famous for being the busiest port in\nthe country. It is also seen as one of the major Centres of tourism because of the city's warm subtropical\nclimate and extensive beaches. Durban forms part of the eThekwini Metropolitan Municipality, which\nincludes neighboring towns and has a population of about 3.44 million,[7] making the combined\nmunicipality one of the biggest cities on the Indian Ocean coast of the African continent. It is also the\nsecond most important manufacturing hub in South Africa after Johannesburg. In 2015, Durban was\nrecognized as one of the New7Wonders Cities (along with Vigan, Doha, La Paz, Havana, Beirut, and Kuala\nLumpur).\n(Source - https://en.wikipedia.org/wiki/Durban )"
        },
        {
            "metadata": {},
            "cell_type": "markdown",
            "source": "**Target Audience**\nThrough this project we are expecting following people to benefit out of the findings.\n1. People migrating city for work.\n2. Business person looking for new location to start office etc.\n3. Tourist.\n4. Restaurants to finalized menu based on the type or people, their likings based on feedbacks etc.\n5. Sports Events, Activities Organizers and many more. "
        }
    ],
    "metadata": {
        "kernelspec": {
            "name": "python3",
            "display_name": "Python 3.6",
            "language": "python"
        },
        "language_info": {
            "name": "python",
            "version": "3.6.9",
            "mimetype": "text/x-python",
            "codemirror_mode": {
                "name": "ipython",
                "version": 3
            },
            "pygments_lexer": "ipython3",
            "nbconvert_exporter": "python",
            "file_extension": ".py"
        }
    },
    "nbformat": 4,
    "nbformat_minor": 1
}