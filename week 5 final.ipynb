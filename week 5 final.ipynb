{
    "cells": [
        {
            "cell_type": "markdown",
            "metadata": {},
            "source": "**Capstone Project**\n\n**Battle of the Neighborhoods in South Africa**\n\nTable of Contents\n\nName of Topic:\n\n\n1  Introduction  2--3\n\n Business problem \n\n Target Audience \n\n2 Data Requirements  4-5\n\n3 Methodology section.  6-7\n\n4 Results section  8-9\n\n5 Discussion section  10\n\n6 Conclusion section 12\n\n\n\n\n"
        },
        {
            "cell_type": "markdown",
            "metadata": {},
            "source": "**Battle of Neighborhoods of -Port Elizabeth & Durban in South Africa**\n1. Introduction / Business Problem\n- When thinking about relocating to a new city or country for work purposes or to start a new life, or to go for a holiday destination people tend to research areas before moving. This research includes population rate, average house price, school ratings, crime rates, weather conditions, recreational facilities, holiday destinations-tourism, Carnivals and Sports events/activity. etc.\n- Based on the above, a search engine algorithm would be an efficient tool to use that will allow users to enter cities and get the neighborhood name that best suits their lifestyle or living conditions.\n- In this project, we will study in detail the area classification using foursquare data and machine learning segmentation and clustering. And segment areas of two cities based on the most common places captured from Foursquare.\n- This could be done as the aim of this Project using an algorithm (Using segmentation and clustering) that will perform an extensive analysis on\n1. The similarities and dissimilarities between neighborhoods in the two cities of the user\u2019s search criteria, and\n2. Determine which neighborhoods best suits their lifestyle.\nFor this project, I will be developing a recommendation system using the Port Elizabeth and Durban cities in South Africa as my search criteria:\n** Brief Information About: Port Elizabeth and Durban ** - Port Elizabeth and Durban are two major cities in South Africa Both the cities become a center of attention for residential, holiday destinations-tourism, education, job employment, shopping and sports activity. Both cities are well known in South Africa and become the top choice for local and foreign communities. Also for the best holiday destinations in the world because of its Mediterranean climate, vibrant nightlife, Michelin Star restaurants, scenic coastal drives, staggering mountain landscape and friendly people; the latter holds the top spot as a family-friendly destination and for its wonderful beaches and water activities.\n-"
        },
        {
            "cell_type": "markdown",
            "metadata": {},
            "source": "Port Elizabeth Port Elizabeth or The Bay[2] (Xhosa: iBhayi; Afrikaans: Die Baai [di \u02c8b\u0251\u02d0i]) is one of the major cities in South Africa; it is situated in the Eastern Cape Province, 770 km (478 mi) east of Cape Town. The city, often shortened to PE and nicknamed \"The Windy City\", stretches for 16 km along Algoa Bay, and is one of the major seaports in South Africa. Port Elizabeth is the southernmost large city on the African continent, just farther south than Cape Town. Port Elizabeth was founded as a town in 1820 to house British settlers as a way of strengthening the border region between the Cape Colony and the Xhosa. It now forms part of the Nelson Mandela Bay Metropolitan Municipality, which has a population of over 1.3 million.\n(Source - https://en.wikipedia.org/wiki/Port_Elizabeth )\nDurban Durban (Zulu: eThekwini, from itheku meaning \"bay/lagoon\") is the third most populous city in South Africa\u2014after Johannesburg and Cape Town\u2014and the largest city in the South African province of KwaZulu-Natal. Located on the east coast of South Africa, Durban is famous for being the busiest port in the country. It is also seen as one of the major Centres of tourism because of the city's warm subtropical climate and extensive beaches. Durban forms part of the eThekwini Metropolitan Municipality, which includes neighboring towns and has a population of about 3.44 million,[7] making the combined municipality one of the biggest cities on the Indian Ocean coast of the African continent. It is also the second most important manufacturing hub in South Africa after Johannesburg. In 2015, Durban was recognized as one of the New7Wonders Cities (along with Vigan, Doha, La Paz, Havana, Beirut, and Kuala Lumpur). (Source - https://en.wikipedia.org/wiki/Durban )"
        },
        {
            "cell_type": "markdown",
            "metadata": {},
            "source": "**Target Audience**\n\nThrough this project we are expecting following people to benefit out of the findings.\n\n1. People migrating city for work.\n2. Business person looking for new location to start office etc.\n3. Tourist.\n4. Restaurants to finalized menu based on the type or people, their likings based on feedbacks etc.\n5. Sports Events, Activities Organizers and many more."
        },
        {
            "cell_type": "markdown",
            "metadata": {},
            "source": "2. Data Requirements\nRequired data can be gathered from:\n- Port Elizabeth and Durban City information, including districts and neighborhoods, can be obtained from Wikipedia:\no (Source - https://en.wikipedia.org/wiki/Port_Elizabeth) &\no (Source - https://en.wikipedia.org/wiki/Durban ) - Photos and Picture of Port Elizabeth and Durban City used for Presentation from\n(Source - https://afrotourism.com/travelogue/)\n- The data used for this project will be acquired from http://www.sapostalcodes.info. The datasets consists of the postal codes and suburb names of each city.\n- In order to obtain venues and their categories we will use Foursquare API search feature [FOURSQUARE] (https://foursquare.com/ ) will be used to collect neighborhood venue information as well as the longitude and latitude details of each suburb. Details about local venues and locality will provide insight into the qualities of a neighborhood.\n- In addition to Foursquare, various python packages will be used to create maps and machine learning models to gather further insights and provide efficient recommendations and results into our neighborhood battle project."
        },
        {
            "cell_type": "markdown",
            "metadata": {},
            "source": "These packages includes:\n1. Pandas - Library for Data Analysis\n2. NumPy \u2013 Library to handle data in a vectorized manner\n3. JSON \u2013 Library to handle JSON files\n4. Geopy \u2013 To retrieve Location Data\n5. Geocorder - For geolocation of neighborhoods\n6. Requests \u2013 Library to handle http requests\n7. Matplotlib \u2013 Python Plotting Module\n8. Sklearn \u2013 Python machine learning Library\n9. Folium \u2013 Map rendering Library"
        },
        {
            "cell_type": "markdown",
            "metadata": {},
            "source": "Basic Work Flow followed as :\n\n- HTTP requests would be made to this Foursquare API server using postal codes of Port Elizabeth Suburbs and Durban Suburbs to pull out the latitude and longitude which will be used for creation of the map as well data analysis.\n-  Using credentials Foursquare API search feature would be enabled to collect the nearby places of the suburbs. Due to http request limitations, the number of places per suburb parameter would be set to 100 and the radius parameter would be set to 700.\n-  Folium- Python visualization library would be used to visualize the suburbs cluster distribution of Port Elizabeth and Durban over an interactive leaflet map.\n-  Extensive comparative analysis of two suburbs world be carried out to derive the desirable insights from the outcomes using python\u2019s scientific libraries Pandas, NumPy and Scikit-learn.\n-  Unsupervised machine learning algorithm K-mean clustering would be applied to form the clusters of different categories of places residing in and around the neighborhoods. These clusters from each of those two chosen suburbs would be analyzed individually collectively and comparatively to derive - the conclusions."
        },
        {
            "cell_type": "markdown",
            "metadata": {},
            "source": "**3. Methodology**\nA Jupyter Notebook developed in order to process data and segment the neighborhoods. Following steps are implemented:\n1. Import Libraries The notebook requires the following libraries. And we have installed it\n-  Pandas - Library for Data Analysis\n-  NumPy \u2013 Library to handle data in a vectorized manner\n-  JSON \u2013 Library to handle JSON files\n-  Geopy \u2013 To retrieve Location Data\n-  Geocorder - For geolocation of neighborhoods\n-  Requests \u2013 Library to handle http requests\n-  Matplotlib \u2013 Python Plotting Module\n- Sklearn \u2013 Python machine learning Library\n-  Folium \u2013 Map rendering Library"
        },
        {
            "cell_type": "markdown",
            "metadata": {},
            "source": "**2. Build neighborhoods list**\nA list of Suburb and Postal code information is obtained from http://www.sapostalcodes.info/ for Port Elizabeth, and Durban city of South Africa That list contains the names of the neighborhoods for both the cities. As output a dataset containing a list of \"city, suburb\" is build.\n3. Neighborhoods geolocation\nEvery element in the neighborhoods dataset is geolocated using Python Geolocator and two columns are updated Containing the latitude and the longitude coordinates of each city, neighborhood. Also the Geographical coordinate of Port Elizabeth, found out.\n4. Find Geographical Coordinates and No of Suburbs\nAs a next stage, the Geographical coordinate of Port Elizabeth, and Durban city found out. Also the no of suburbs are found out for both the cities.\n5. Venues compilation\nAs next step Foursquare services are used for obtaining venues for every neighborhood. The output is a new dataset with many records for every neighborhood containing the venues found for every one of them."
        },
        {
            "cell_type": "markdown",
            "metadata": {},
            "source": "**6. Neighborhoods Segmentation**\n\nThe problem in hand is a case of unsupervised segmentation and, from the possible machine learning algorithms, K-means was choosen. Taking in account that the venues information obtained from Foursquare is categorical, it must be previously processed in order to be handled by K-means algorithm. For this _\"pandas.getdummies\" is used for dummies variables.\nTherefore For this unsupervised machine learning algorithm K-mean clustering applied to form the clusters of different categories of places residing in and around the neighborhoods.\nNext step is build the segmentation dataframe, composed of the top venues for every neighborhood plus a segment label determined by K-means.\n7. Segments analysis\nEvery segment is printed individually, were different characteristics can be observed for each group. These clusters from each of those two chosen suburbs would be analyzed individually collectively and comparatively to derive the conclusions.\nNext section describes the results."
        },
        {
            "cell_type": "markdown",
            "metadata": {},
            "source": "**4. Results - 1. Outcomes \u2013 Port Elizabeth, South Africa**\nThe K-means method was used to cluster the suburbs of Port Elizabeth city into 5 clusters. The details of the clusters are as follows:\n1. Cluster 1 -25 Suburbs\nCommon Venus include Restaurants, Coffee Shops, Grocery Store, Nightclubs and Shopping Mall\n2. Cluster 2 - 13 Suburbs\nCommon Venues include Fast Food Restaurant, Coffee Shops, Bookstores, Restaurants, Clothing Store, and Electronics Store\n3. Cluster 3 \u2013 04 Suburbs\nCommon Venues include Convenience Store, Coffee Shops, Thai Restaurant, Fast Food Restaurant Pubs, Accessory Stores and Electronics Store\n4. Cluster 4 - 14 Suburbs\nCommon Venues include Fast Food Restaurants, Winery, Beaches and Cafes, Thai Restaurant,\nGrocery Store, Department Store\n5. Cluster 5 -1 Suburbs\nCommon Venues include Thai Restaurant, Grocery Store, Fried Chicken Joint, Fast Food Restaurant, Electronics Store, and Department Store\nFig \u2013 Visualization - The Resulting Clusters Of Port Elizabeth City"
        },
        {
            "cell_type": "markdown",
            "metadata": {},
            "source": "**2. Outcomes \u2013 Durban, South Africa**\n\nThe K-means method was used to cluster the suburbs of Durban into 5 clusters. The details of the clusters are as follows:\n1. Cluster 1 -23 Suburbs\nCommon Venues include Hotels, Lawyer, Water Park, Gift Shop, Electronics Store, Fast Food Restaurant, Flea Market, Furniture / Home Store, Gas Station, Gastropub, Golf Course.\n2. Cluster 2 -2 Suburbs\nCommon Venue is Lawyer, Water Park, Gift Shop, Electronics Store, Fast Food Restaurant, Flea Market, Furniture / Home Store, Gas Station, Gastropub, Golf Course.\n3. Cluster 3 - 3 Suburbs\nCommon Venues include Gastro pub, Department Store, Electronics Store, Fast Food Restaurant, Flea Market, Furniture / Home Store, Gas Station, Gift Shop.\n4. Cluster 4 - 25 Suburbs\nCommon Venues include Water Park, Gift Shop, Electronics Store, Fast Food Restaurant, Flea Market, Furniture / Home Store, Gas Station, Golf Course.\n5. Cluster 5 - 4 Suburbs\nCommon Venues include Water Park, Gift Shop, Electronics Store, Fast Food Restaurant, Flea Market , Furniture / Home Store, Gas Station, Golf Course\nFig \u2013 Visualization - The Resulting Clusters Of Durban City"
        },
        {
            "cell_type": "markdown",
            "metadata": {},
            "source": "**5. Discussion section**\n\nPort Elizabeth has 47 suburbs with 76 venues. In addition, the geographical coordinate of Port Elizabeth, South Africa are -33.9617051, 25.6207519. The best suburb to stay in is GAMTOOS with the following venues: Suburb GAMTOOS\n-  1st Most Common Venue Convenience Store \uf0a7\n- 2nd Most Common Venue Thai Restaurant \n- 3rd Most Common Venue Clothing Store \n- 4th Most Common Venue Grocery Store \n- 5th Most Common Venue Gas Station \n- 6th Most Common Venue Fried Chicken Joint \n- 7th Most Common Venue Fast Food Restaurant \n- 8th Most Common Venue Electronics Store \n- 9th Most Common Venue Diner \n- 10th Most Common Venue Department Store\nDurban has 69 suburbs with 132 venues.\nIn addition, the geographical coordinate of Durban, South Africa are -29.861825, 31.009909. The best suburb to stay in is DURBAN INTERNASIONALE LUGHAWE with the following venues:\n- Suburb DURBAN INTERNASIONALE LUGHAWE \n- 1st Most Common Venue Airport \n- 2nd Most Common Venue Water Park \n- 3rd Most Common Venue Gift Shop \n- 4th Most Common Venue Electronics Store \n- 5th Most Common Venue Fast Food Restaurant \n-6th Most Common Venue Flea Market \n- 7th Most Common Venue Furniture / Home Store \n- 8th Most Common Venue Gas Station \n- 9th Most Common Venue Gastropub \n- 10th Most Common Venue Golf Course\nMany of the neighborhoods are homogenous and are very similar to each other. Both Port Elizabeth and Durban City consist of suburb clusters that contain majority of the suburbs."
        },
        {
            "cell_type": "markdown",
            "metadata": {},
            "source": "6. Conclusion section Durban had a significant more number of suburbs and venues than Port Elizabeth therefore it would be the better option to relocate to Durban, specifically DURBAN INTERNASIONALE LUGHAWE as the most efficient choice. Durban offers a variety in choices for restaurants, gyms, grocery stores, and Water Park, golf course extracurricular activities for individuals and families."
        },
        {
            "cell_type": "code",
            "execution_count": null,
            "metadata": {},
            "outputs": [],
            "source": ""
        }
    ],
    "metadata": {
        "kernelspec": {
            "display_name": "Python 3.6",
            "language": "python",
            "name": "python3"
        },
        "language_info": {
            "codemirror_mode": {
                "name": "ipython",
                "version": 3
            },
            "file_extension": ".py",
            "mimetype": "text/x-python",
            "name": "python",
            "nbconvert_exporter": "python",
            "pygments_lexer": "ipython3",
            "version": "3.6.9"
        }
    },
    "nbformat": 4,
    "nbformat_minor": 1
}