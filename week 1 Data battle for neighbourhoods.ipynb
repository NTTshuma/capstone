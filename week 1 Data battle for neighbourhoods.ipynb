{
    "cells": [
        {
            "metadata": {},
            "cell_type": "markdown",
            "source": "**2. Data Requirements**"
        },
        {
            "metadata": {},
            "cell_type": "markdown",
            "source": "**Required data can be gathered from:**\n- Port Elizabeth and Durban City information, including districts and neighborhoods, can be obtained\nfrom Wikipedia:\no (Source - https://en.wikipedia.org/wiki/Port_Elizabeth) &\no (Source - https://en.wikipedia.org/wiki/Durban )\n- Photos and Picture of Port Elizabeth and Durban City used for Presentation from\n(Source - https://afrotourism.com/travelogue/)\n- The data used for this project will be acquired from http://www.sapostalcodes.info. The datasets consists\nof the postal codes and suburb names of each city"
        },
        {
            "metadata": {},
            "cell_type": "markdown",
            "source": "- In order to obtain venues and their categories we will use Foursquare API search feature [FOURSQUARE]\n(https://foursquare.com/ ) will be used to collect neighborhood venue information as well as the\nlongitude and latitude details of each suburb. Details about local venues and locality will provide insight\ninto the qualities of a neighborhood.\n- In addition to Foursquare, various python packages will be used to create maps and machine learning\nmodels to gather further insights and provide efficient recommendations and results into our neighborhood battle project.\nThese packages includes:\n1. Pandas - Library for Data Analysis\n2. NumPy \u2013 Library to handle data in a vectorized manner\n3. JSON \u2013 Library to handle JSON files\n4. Geopy \u2013 To retrieve Location Data\n5. Geocorder - For geolocation of neighborhoods\n6. Requests \u2013 Library to handle http requests\n7. Matplotlib \u2013 Python Plotting Module\n8. Sklearn \u2013 Python machine learning Library\n9. Folium \u2013 Map rendering Library "
        },
        {
            "metadata": {},
            "cell_type": "markdown",
            "source": "**Basic Work Flow followed as:**\n\n\uf0a7 HTTP requests would be made to this Foursquare API server using postal codes of Port Elizabeth Suburbs\nand Durban Suburbs to pull out the latitude and longitude which will be used for creation of the map as\nwell data analysis.\n\n\uf0a7 Using credentials Foursquare API search feature would be enabled to collect the nearby places of the\nsuburbs. Due to http request limitations, the number of places per suburb parameter would be set to 100\nand the radius parameter would be set to 700.\n\n\uf0a7 Folium- Python visualization library would be used to visualize the suburbs cluster distribution of Port\nElizabeth and Durban over an interactive leaflet map.\n\n\uf0a7 Extensive comparative analysis of two suburbs world be carried out to derive the desirable insights from\nthe outcomes using python\u2019s scientific libraries Pandas, NumPy and Scikit-learn.\n\n\uf0a7 Unsupervised machine learning algorithm K-mean clustering would be applied to form the clusters of\ndifferent categories of places residing in and around the neighborhoods. These clusters from each of those\ntwo chosen suburbs would be analyzed individually collectively and comparatively to derive the conclusions. "
        },
        {
            "metadata": {},
            "cell_type": "code",
            "source": "",
            "execution_count": null,
            "outputs": []
        }
    ],
    "metadata": {
        "kernelspec": {
            "name": "python3",
            "display_name": "Python 3.6",
            "language": "python"
        },
        "language_info": {
            "name": "python",
            "version": "3.6.9",
            "mimetype": "text/x-python",
            "codemirror_mode": {
                "name": "ipython",
                "version": 3
            },
            "pygments_lexer": "ipython3",
            "nbconvert_exporter": "python",
            "file_extension": ".py"
        }
    },
    "nbformat": 4,
    "nbformat_minor": 1
}